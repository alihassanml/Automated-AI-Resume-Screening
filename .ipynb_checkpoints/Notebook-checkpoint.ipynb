{
 "cells": [
  {
   "cell_type": "code",
   "execution_count": 1,
   "id": "0ae6677f-81ad-44a5-88ae-beb623cfffee",
   "metadata": {},
   "outputs": [],
   "source": [
    "import warnings\n",
    "warnings.filterwarnings('ignore')"
   ]
  },
  {
   "cell_type": "code",
   "execution_count": 19,
   "id": "ac66b08b-47a9-4698-8ac1-954cf9ec4fae",
   "metadata": {},
   "outputs": [],
   "source": [
    "# Import library\n",
    "import re #regx library\n",
    "import pandas as pd\n",
    "import numpy as np\n",
    "import matplotlib.pyplot as plt\n",
    "from pypdf import PdfReader # Read pdf\n",
    "\n",
    "\n",
    "%matplotlib inline"
   ]
  },
  {
   "cell_type": "code",
   "execution_count": null,
   "id": "71eaca82-c129-4b63-8b63-e1c00072386c",
   "metadata": {},
   "outputs": [],
   "source": []
  },
  {
   "cell_type": "code",
   "execution_count": 5,
   "id": "5f65a361-f124-4d5d-af62-c97b3dae9076",
   "metadata": {},
   "outputs": [],
   "source": [
    "def pdf_read(url):\n",
    "    reader = PdfReader(url)\n",
    "    read = reader.pages[0]\n",
    "    text = read.extract_text()\n",
    "    return text"
   ]
  },
  {
   "cell_type": "code",
   "execution_count": 9,
   "id": "cb0d098e-42ac-492a-93fb-dc521b631067",
   "metadata": {},
   "outputs": [],
   "source": [
    "url = './resume.pdf'\n",
    "resume = pdf_read(url)"
   ]
  },
  {
   "cell_type": "code",
   "execution_count": null,
   "id": "654aba5e-4e5d-456f-b12c-2c3e5ba0551d",
   "metadata": {},
   "outputs": [],
   "source": []
  },
  {
   "cell_type": "code",
   "execution_count": 22,
   "id": "11978184-73f3-4a33-9bf0-121fd00de86b",
   "metadata": {},
   "outputs": [],
   "source": [
    "import pickle\n",
    "# load skill\n",
    "with open(\"./list/skills.pkl\", \"rb\") as f:\n",
    "    skills = pickle.load(f)\n",
    "# load education    \n",
    "with open(\"./list/education.pkl\", \"rb\") as f:\n",
    "    education = pickle.load(f)\n",
    "# load experience\n",
    "with open(\"./list/experience.pkl\", \"rb\") as f:\n",
    "    experience = pickle.load(f)"
   ]
  },
  {
   "cell_type": "code",
   "execution_count": 23,
   "id": "f672c300-4b77-4fc9-a902-940fb88782df",
   "metadata": {},
   "outputs": [],
   "source": [
    "# Extract Skill\n",
    "def extract_skills(text):\n",
    "    extracted_skills = [skill for skill in skills if re.search(rf'\\b{skill}\\b', text, re.IGNORECASE)]\n",
    "    return extracted_skills"
   ]
  },
  {
   "cell_type": "code",
   "execution_count": 29,
   "id": "b4072b3e-8595-46ac-89a5-de3e0a501317",
   "metadata": {},
   "outputs": [],
   "source": [
    "#  Education Extraction Function\n",
    "def extract_education(text):\n",
    "    degrees = education[\"degrees\"]\n",
    "    fields_of_study = education[\"fields_of_study\"]\n",
    "    institutions = education[\"institutions\"]\n",
    "    \n",
    "    extracted_degrees = [deg for deg in degrees if re.search(rf'\\b{deg}\\b', text, re.IGNORECASE)]\n",
    "    extracted_fields = [field for field in fields_of_study if re.search(rf'\\b{field}\\b', text, re.IGNORECASE)]\n",
    "    extracted_institutions = [inst for inst in institutions if re.search(rf'\\b{inst}\\b', text, re.IGNORECASE)]\n",
    "    \n",
    "    return {\n",
    "        \"Degrees\": extracted_degrees,\n",
    "        \"Fields of Study\": extracted_fields,\n",
    "        \"Institutions\": extracted_institutions\n",
    "    }"
   ]
  },
  {
   "cell_type": "code",
   "execution_count": 30,
   "id": "b8f7414d-1745-4f38-ae6a-911f4e65c8a9",
   "metadata": {},
   "outputs": [],
   "source": [
    "# Extract experience\n",
    "def extract_experience(text):\n",
    "    extracted_experience = [exp for exp in experience if re.search(rf'\\b{exp}\\b', text, re.IGNORECASE)]\n",
    "    return extracted_experience"
   ]
  },
  {
   "cell_type": "code",
   "execution_count": null,
   "id": "43618bd9-a670-4954-ba1f-d27f8b210cfb",
   "metadata": {},
   "outputs": [],
   "source": []
  },
  {
   "cell_type": "code",
   "execution_count": 32,
   "id": "3aa3a144-95cb-4dc6-bfc1-fbb8a48643cd",
   "metadata": {},
   "outputs": [],
   "source": [
    "# Apply on my resume"
   ]
  },
  {
   "cell_type": "code",
   "execution_count": 21,
   "id": "27500c0d-b775-4ee1-9482-10169271c83f",
   "metadata": {},
   "outputs": [
    {
     "name": "stdout",
     "output_type": "stream",
     "text": [
      "['MLflow', 'NLP', 'Scikit-learn', 'Django', 'OpenCV', 'SQL', 'C', 'Data Analysis', 'Java', 'LangChain', 'Computer Vision', 'React', 'Flask', 'Deep Learning', 'Machine Learning', 'TensorFlow', 'Keras', 'C++', 'FastAPI', 'Python', 'CSS', 'Generative AI', 'HTML']\n"
     ]
    }
   ],
   "source": [
    "print(extract_skills(resume))"
   ]
  },
  {
   "cell_type": "code",
   "execution_count": 28,
   "id": "570df8cb-bf29-47ef-bf87-d26329ed43cb",
   "metadata": {},
   "outputs": [
    {
     "name": "stdout",
     "output_type": "stream",
     "text": [
      "{'Degrees': [], 'Fields of Study': ['Machine Learning'], 'Institutions': ['University', 'College']}\n"
     ]
    }
   ],
   "source": [
    "print(extract_education(resume))"
   ]
  },
  {
   "cell_type": "code",
   "execution_count": 31,
   "id": "07355fe2-5b75-4ac1-9080-a7105da7d0b2",
   "metadata": {},
   "outputs": [
    {
     "name": "stdout",
     "output_type": "stream",
     "text": [
      "['Experience', 'Project Experience', 'Machine Learning Engineer', 'Data Scientist']\n"
     ]
    }
   ],
   "source": [
    "print(extract_experience(resume))"
   ]
  },
  {
   "cell_type": "code",
   "execution_count": null,
   "id": "464f1124-f382-4a2c-aa31-9d3dff0f1e2d",
   "metadata": {},
   "outputs": [],
   "source": []
  },
  {
   "cell_type": "code",
   "execution_count": null,
   "id": "93acb718-26bf-41be-aa2b-a6157733ce81",
   "metadata": {},
   "outputs": [],
   "source": []
  },
  {
   "cell_type": "code",
   "execution_count": null,
   "id": "c166b51b-6441-45c9-8cbe-5e0d6c88f02b",
   "metadata": {},
   "outputs": [],
   "source": []
  },
  {
   "cell_type": "code",
   "execution_count": null,
   "id": "8ec871c4-3b31-4d53-b2ad-17dfa123f823",
   "metadata": {},
   "outputs": [],
   "source": []
  }
 ],
 "metadata": {
  "kernelspec": {
   "display_name": "Python 3 (ipykernel)",
   "language": "python",
   "name": "python3"
  },
  "language_info": {
   "codemirror_mode": {
    "name": "ipython",
    "version": 3
   },
   "file_extension": ".py",
   "mimetype": "text/x-python",
   "name": "python",
   "nbconvert_exporter": "python",
   "pygments_lexer": "ipython3",
   "version": "3.12.3"
  }
 },
 "nbformat": 4,
 "nbformat_minor": 5
}
