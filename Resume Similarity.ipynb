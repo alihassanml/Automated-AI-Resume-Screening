{
 "cells": [
  {
   "cell_type": "code",
   "execution_count": 1,
   "id": "f41988b8-335f-4700-b752-68b46a09e081",
   "metadata": {},
   "outputs": [],
   "source": [
    "import warnings\n",
    "warnings.filterwarnings('ignore')"
   ]
  },
  {
   "cell_type": "code",
   "execution_count": 10,
   "id": "622fefa2-4856-4e59-b49a-b5e5ed4d75fc",
   "metadata": {},
   "outputs": [],
   "source": [
    "# Import library\n",
    "import re #regx library\n",
    "import pandas as pd\n",
    "import numpy as np\n",
    "import matplotlib.pyplot as plt\n",
    "from pypdf import PdfReader # Read pdf\n",
    "import streamlit as st\n",
    "from sklearn.metrics.pairwise import cosine_similarity\n",
    "from sklearn.feature_extraction.text import TfidfVectorizer\n",
    "from sklearn.metrics.pairwise import cosine_similarity"
   ]
  },
  {
   "cell_type": "code",
   "execution_count": 3,
   "id": "18474d55-5362-49ef-9978-2a0d0623b56d",
   "metadata": {},
   "outputs": [],
   "source": [
    "import pickle\n",
    "# load skill\n",
    "with open(\"./list/skills.pkl\", \"rb\") as f:\n",
    "    skills = pickle.load(f)\n",
    "# load education    \n",
    "with open(\"./list/education.pkl\", \"rb\") as f:\n",
    "    education = pickle.load(f)\n",
    "# load experience\n",
    "with open(\"./list/experience.pkl\", \"rb\") as f:\n",
    "    experience = pickle.load(f)\n",
    "\n",
    "# Load the trained classifier\n",
    "classfier_predict = pickle.load(open('./list/classfier.pkl', 'rb'))\n",
    "tdiff_vector = pickle.load(open('./list/tdif.pkl', 'rb'))"
   ]
  },
  {
   "cell_type": "code",
   "execution_count": 4,
   "id": "c47f3192-0cde-4ec3-9b1e-332158a48599",
   "metadata": {},
   "outputs": [],
   "source": [
    "classes = ['Advocate', 'Arts', 'Automation Testing', 'Blockchain',\n",
    "       'Business Analyst', 'Civil Engineer', 'Data Science', 'Database',\n",
    "       'DevOps Engineer', 'DotNet Developer', 'ETL Developer',\n",
    "       'Electrical Engineering', 'HR', 'Hadoop', 'Health and fitness',\n",
    "       'Java Developer', 'Mechanical Engineer',\n",
    "       'Network Security Engineer', 'Operations Manager', 'PMO',\n",
    "       'Python Developer', 'SAP Developer', 'Sales', 'Testing',\n",
    "       'Web Designing']"
   ]
  },
  {
   "cell_type": "code",
   "execution_count": null,
   "id": "77417634-31ca-435a-acfd-e6b1341025b1",
   "metadata": {},
   "outputs": [],
   "source": []
  },
  {
   "cell_type": "code",
   "execution_count": 5,
   "id": "f3295d5c-2043-4c3a-b3fd-1ac59a08cf5f",
   "metadata": {},
   "outputs": [],
   "source": [
    "# Read pdf \n",
    "def pdf_read(url):\n",
    "    reader = PdfReader(url)\n",
    "    read = reader.pages[0]\n",
    "    text = read.extract_text()\n",
    "    return text"
   ]
  },
  {
   "cell_type": "code",
   "execution_count": null,
   "id": "37c4788f-131f-4177-b4fd-f430912ca740",
   "metadata": {},
   "outputs": [],
   "source": []
  },
  {
   "cell_type": "code",
   "execution_count": 7,
   "id": "25e90008-00dc-450e-81a4-60cd5162f253",
   "metadata": {},
   "outputs": [],
   "source": [
    "# Extract Skill\n",
    "def extract_skills(text):\n",
    "    extracted_skills = [skill for skill in skills if re.search(rf'\\b{skill}\\b', text, re.IGNORECASE)]\n",
    "    return extracted_skills\n",
    "\n",
    "#  Education Extraction Function\n",
    "def extract_education(text):\n",
    "    degrees = education[\"degrees\"]\n",
    "    fields_of_study = education[\"fields_of_study\"]\n",
    "    institutions = education[\"institutions\"]\n",
    "    \n",
    "    extracted_degrees = [deg for deg in degrees if re.search(rf'\\b{deg}\\b', text, re.IGNORECASE)]\n",
    "    extracted_fields = [field for field in fields_of_study if re.search(rf'\\b{field}\\b', text, re.IGNORECASE)]\n",
    "    extracted_institutions = [inst for inst in institutions if re.search(rf'\\b{inst}\\b', text, re.IGNORECASE)]\n",
    "    \n",
    "    return {\n",
    "        \"Degrees\": extracted_degrees,\n",
    "        \"Study\": extracted_fields,\n",
    "        \"Institutions\": extracted_institutions\n",
    "    }\n",
    "\n",
    "# Extract experience\n",
    "def extract_experience(text):\n",
    "    extracted_experience = [exp for exp in experience if re.search(rf'\\b{exp}\\b', text, re.IGNORECASE)]\n",
    "    return extracted_experience"
   ]
  },
  {
   "cell_type": "code",
   "execution_count": 8,
   "id": "a93a74c0-5bba-48ed-8e13-870a4e931929",
   "metadata": {},
   "outputs": [],
   "source": [
    "def extract_Resume(resume):\n",
    "    skill = extract_skills(resume)\n",
    "    education = extract_education(resume)\n",
    "    experience = extract_experience(resume)\n",
    "    \n",
    "    result = {\n",
    "        'skill': skill,\n",
    "        'education': education,\n",
    "        'experience': experience\n",
    "    }\n",
    "\n",
    "    # Convert the result to JSON format\n",
    "    return result"
   ]
  },
  {
   "cell_type": "code",
   "execution_count": 11,
   "id": "0269e557-c7fd-4e2d-8944-a7177c7543a5",
   "metadata": {},
   "outputs": [],
   "source": [
    "def cleanResume(txt):\n",
    "    cleanText = re.sub('http\\S+\\s', ' ', txt)\n",
    "    cleanText = re.sub('RT|cc', ' ', cleanText)\n",
    "    cleanText = re.sub('#\\S+\\s', ' ', cleanText)\n",
    "    cleanText = re.sub('@\\S+', '  ', cleanText)  \n",
    "    cleanText = re.sub('[%s]' % re.escape(\"\"\"!\"#$%&'()*+,-./:;<=>?@[\\]^_`{|}~\"\"\"), ' ', cleanText)\n",
    "    cleanText = re.sub(r'[^\\x00-\\x7f]', ' ', cleanText) \n",
    "    cleanText = re.sub('\\s+', ' ', cleanText)\n",
    "    return cleanText"
   ]
  },
  {
   "cell_type": "code",
   "execution_count": 13,
   "id": "cc0aa6ff-56b1-428d-8f7b-b94b02d741e1",
   "metadata": {},
   "outputs": [],
   "source": [
    "def get_ResumeSimilarity(resume,job):\n",
    "    vector = TfidfVectorizer()\n",
    "    vector_res = vector.fit_transform([resume,job])\n",
    "    cosine_sim = cosine_similarity(vector_res[0:1], vector_res[1:2])\n",
    "    return cosine_sim.item() * 100"
   ]
  },
  {
   "cell_type": "code",
   "execution_count": null,
   "id": "7dd4ff79-65df-4088-bca9-36aee861d107",
   "metadata": {},
   "outputs": [],
   "source": []
  },
  {
   "cell_type": "code",
   "execution_count": 14,
   "id": "4273e92f-9798-4d25-9530-d511a2f13a1e",
   "metadata": {},
   "outputs": [],
   "source": [
    "def Predict_Resume(resume):\n",
    "    # Transform the cleaned resume using the trained TfidfVectorizer\n",
    "    input_features = tdiff_vector.transform([resume])\n",
    "    # Make the prediction using the loaded classifier\n",
    "    prediction_id = classfier_predict.predict(input_features)[0]\n",
    "    return classes[prediction_id]"
   ]
  },
  {
   "cell_type": "code",
   "execution_count": 15,
   "id": "69425a42-ba63-466d-8375-8d692deb64a8",
   "metadata": {},
   "outputs": [],
   "source": [
    "def matching_score(resume_, job_):\n",
    "    # Convert skills to sets\n",
    "    resume_set = set(resume_)\n",
    "    job_set = set(job_)\n",
    "    \n",
    "    # Calculate intersection and union\n",
    "    intersection = resume_set.intersection(job_set)\n",
    "    match_score = (len(intersection) / len(job_set)) * 100  # Match based on job skills only\n",
    "    \n",
    "    return match_score, intersection"
   ]
  },
  {
   "cell_type": "code",
   "execution_count": null,
   "id": "80c12bdb-e612-44b8-aea5-35646116a9b7",
   "metadata": {},
   "outputs": [],
   "source": []
  },
  {
   "cell_type": "code",
   "execution_count": 16,
   "id": "645fc7b9-10f1-4f86-a450-bb780b447adf",
   "metadata": {},
   "outputs": [],
   "source": [
    "def predict(resume,job):\n",
    "    clean_resume = cleanResume(resume)\n",
    "    clean_job = cleanResume(job)\n",
    "\n",
    "    # Predict Resume \n",
    "    resule_predict = Predict_Resume(clean_resume)\n",
    "    # Extract Resume\n",
    "    resume_extract = extract_Resume(clean_resume)\n",
    "    job_extract = extract_Resume(clean_job)\n",
    "    # Matching Resume Skill and Job's\n",
    "    score_skill, matched_skills = matching_score(resume_extract['skill'], job_extract['skill'])\n",
    "    score_education, matched_education = matching_score(resume_extract['education'], job_extract['education'])\n",
    "    score_experience, matched_experience = matching_score(resume_extract['experience'], job_extract['experience'])\n",
    "\n",
    "    # Find Similarity Using cosine\n",
    "    similiraty_skill = get_ResumeSimilarity(str(resume_extract), str(job_extract))\n",
    "    \n",
    "    \n",
    "    # Print Result\n",
    "    print(f'Your clean Resume: {clean_resume}\\n')\n",
    "    print(f'Your clean Job: {job}\\n\\n\\n')\n",
    "    \n",
    "    print(f'Your Resume Related to: {resule_predict}\\n\\n\\n')\n",
    "    \n",
    "    print(f'Your Resume Skill: {resume_extract}\\n')\n",
    "    print(f'Your Job Skill: {job_extract}\\n\\n\\n')\n",
    "    \n",
    "    print(f\"Job Skill Match Score: {score_skill:.2f}%\")\n",
    "    print(f\"Matched Skills: {', '.join(matched_skills)}\\n\\n\")\n",
    "\n",
    "    print(f\"Job Education Match Score: {score_education:.2f}%\")\n",
    "    print(f\"Matched education: {', '.join(matched_education)}\\n\\n\")\n",
    "\n",
    "    print(f\"Job Experience Match Score: {score_experience:.2f}%\")\n",
    "    print(f\"Matched experience: {', '.join(matched_experience)}\\n\\n\")\n",
    "\n",
    "    print(f\"Job Resume match Score: {similiraty_skill:.2f}%\")"
   ]
  },
  {
   "cell_type": "code",
   "execution_count": 18,
   "id": "fa0eab55-98a7-4957-ae78-4424a2614fbe",
   "metadata": {},
   "outputs": [],
   "source": [
    "with open('./job.txt', 'r', encoding='utf-8') as file:\n",
    "    job = file.readlines()  # Returns a list of lines"
   ]
  },
  {
   "cell_type": "code",
   "execution_count": 20,
   "id": "3d30606b-d862-48fc-863c-ca6e022a6bcb",
   "metadata": {},
   "outputs": [
    {
     "name": "stdout",
     "output_type": "stream",
     "text": [
      "Your clean Resume: Ali Hassan 26 Awami Colony Ghazi Road Lahore 92 03048630925 github com alihassanml kaggle com alihassanml alihassanml vercel app alihassanbscs99 EDUCATI ON COLLE GE UNIVER SITY Intermediate in Computer Science Defense Degree College Getting A Grade 84 1st Year 79 2nd Year 2020 22 Bachelor of Science in Computer Science Lahore Garrison University 6th Semester In Progress 2022 26 PRO FE SSION AL E XP ERIE NCE Professional Summary A results driven Data Scientist Machine Learning Engineer and Full Stack Developer with expertise in designing developing and deploying AI powered solutions With a strong foundation in mathematics statistics I specialize in machine learning deep learning and generative AI leveraging technologies like LangChain LSTMs Transformer and YOLO based object detection My experience extends to MLOps and cloud deployment including AWS CI CD pipelines and Docker ensuring scalable and efficient model operations Additionally my full stack development skills in React TypeScript and FastAPI enable me to build robust end to end applications Passionate about applying AI to real world problems I thrive on innovation problem solving and delivering impactful solutions DeDolphins Tech Location Belgium 6 months experience From Aug 2024 to Jan 2025 Machine Learning Engineer Developed an advanced data analysis tool for DataHorse AI using Large Language Models LLMs Streamlit app with Groq to automate Python code generation for data processing and visualization Full Stack Developer Designed and developed Kontactly ai a platform for creating and embedding custom AI chatbots Engineered the frontend with React and TypeScript ensuring a seamless responsive user experience Built a scalable backend using FastAPI optimizing API performance and management Integrated LangChain for chatbot fine tuning enabling personalized interactions Freelance Project Jan 02 20 2025 Location Pakistan 2 months experience Developed a YOLO based object detection system using FastAPI enabling real time image analysis for student final year projects Implemented custom trained models database storage and data visualization along with a user friendly web interface for seamless interaction Github PROJE CTS E XTRACURRICUL AR Magic Wand Project LUMS Hackathon Dec 25 2024 Developed a real time drawing and recognition system using OpenCV LSTM and GRU models achieving 89 a uracy The project enabled users to draw with a stick and predict the drawn shape securing 3rd place in the leaderboard Github Quiz Genius Application March 02 2024 Developing MCQ application powered by LangChain Streamlit and Gemini It allows users to generate and answer MCQs on various topics providing immediate feedback and performance rewards Github SKILL S Machine Learning Supervised and Unsupervised learning Deep Learning ANN CNN RNN LSTM GUR Transformers Statistics Linear algebra Python Tensorflow Keras Computer vision Pandas Seaborn Django Langchain Langgraph Gemini Openai Groq sklearn Database SQL Mongodb Postgresql Clouds Azure Aws Netlify Vercel Heroku Docker Ollama MLOPS Web Development React Type Script Fastapi \n",
      "\n",
      "Your clean Job: ['Job Title: Data Scientist  \\n', 'Location: Remote / On-site (Karachi, Pakistan)  \\n', 'Company: TechNova Analytics  \\n', 'Job Type: Full-Time  \\n', '---\\n', ' About the Role:\\n', 'We’re looking for a passionate and analytical Data Scientist to join our growing analytics team. You will play a key role in transforming raw data into actionable insights to support business decision-making and strategy development.\\n', '---\\n', ' Requirements:\\n', 'Education:\\n', \"- Bachelor's degree (BS) in Computer Science, Data Science, Statistics, Mathematics, or a related field.\\n\", 'Experience:\\n', '- 2+ years of experience working in a data science or analytics role.\\n', 'Skills:\\n', '- Proficiency in Python and SQL.\\n', '- Experience with machine learning libraries such as Scikit-learn, TensorFlow, or PyTorch.\\n', '- Strong knowledge of statistical analysis and data visualization tools (e.g., Tableau, Power BI, or Matplotlib).\\n', '- Familiarity with cloud platforms (AWS, GCP, or Azure).\\n', '- Experience with big data tools like Spark or Hadoop is a plus.\\n', '- Solid understanding of data preprocessing and feature engineering.\\n', '---\\n', ' Key Responsibilities:\\n', '- Analyze large datasets to discover trends and patterns.\\n', '- Build predictive models and machine learning algorithms.\\n', '- Collaborate with cross-functional teams to understand business objectives.\\n', '- Develop data visualization dashboards to present insights.\\n', '- Ensure data integrity and improve data collection strategies.\\n', '---\\n', ' Benefits:\\n', '- Competitive salary\\n', '- Flexible working hours\\n', '- Health insurance\\n', '- Learning and development opportunities\\n', '- Annual performance bonuses\\n']\n",
      "\n",
      "\n",
      "\n",
      "Your Resume Related to: Data Science\n",
      "\n",
      "\n",
      "\n",
      "Your Resume Skill: {'skill': ['AWS', 'MongoDB', 'Django', 'OpenCV', 'SQL', 'PostgreSQL', 'Docker', 'Data Analysis', 'LLMs', 'LangChain', 'Computer Vision', 'React', 'Azure', 'Deep Learning', 'Machine Learning', 'TensorFlow', 'Keras', 'FastAPI', 'TypeScript', 'Python', 'Generative AI'], 'education': {'Degrees': ['Bachelor of Science', 'ME'], 'Study': ['Computer Science', 'Machine Learning', 'Web Development', 'Mathematics', 'Statistics'], 'Institutions': ['University', 'College']}, 'experience': ['Experience', 'Full Stack Developer', 'Machine Learning Engineer', 'Data Scientist']}\n",
      "\n",
      "Your Job Skill: {'skill': ['AWS', 'SQL', 'Hadoop', 'PyTorch', 'Big Data', 'Statistical Analysis', 'Azure', 'Machine Learning', 'TensorFlow', 'Data Science', 'Python'], 'education': {'Degrees': ['BS'], 'Study': ['Computer Science', 'Data Science', 'Machine Learning', 'Mathematics', 'Statistics'], 'Institutions': []}, 'experience': ['Experience', 'Years of Experience', 'Data Scientist', '2+ years of experience']}\n",
      "\n",
      "\n",
      "\n",
      "Job Skill Match Score: 54.55%\n",
      "Matched Skills: AWS, TensorFlow, Python, Machine Learning, SQL, Azure\n",
      "\n",
      "\n",
      "Job Education Match Score: 100.00%\n",
      "Matched education: Degrees, Institutions, Study\n",
      "\n",
      "\n",
      "Job Experience Match Score: 50.00%\n",
      "Matched experience: Data Scientist, Experience\n",
      "\n",
      "\n",
      "Job Resume match Score: 56.80%\n"
     ]
    }
   ],
   "source": [
    "res = pdf_read('./resume.pdf')\n",
    "\n",
    "predict(res,str(job))"
   ]
  },
  {
   "cell_type": "code",
   "execution_count": null,
   "id": "d37d9c07-7eee-4030-b5ae-fe544ebb8779",
   "metadata": {},
   "outputs": [],
   "source": []
  },
  {
   "cell_type": "code",
   "execution_count": 33,
   "id": "c0e5fedf-04df-4bfd-9d1e-5d85d62e697f",
   "metadata": {},
   "outputs": [],
   "source": [
    "clean_resume = cleanResume(str(res)) # Clean Resume\n",
    "clean_job = cleanResume(str(job)) # Clean Job\n",
    "# Extract Resume and Job\n",
    "resume_extract = extract_Resume(clean_resume)\n",
    "job_extract = extract_Resume(clean_job)\n",
    "\n",
    "score_skill, matched_skills = matching_score(resume_extract['skill'], job_extract['skill'])\n",
    "score_education, matched_education = matching_score(resume_extract['education']['Study'],job_extract['education']['Study'])\n",
    "score_experience, matched_experience = matching_score(resume_extract['experience'], job_extract['experience'])"
   ]
  },
  {
   "cell_type": "code",
   "execution_count": 30,
   "id": "bbffe676-4552-4a77-b35d-28052a35c457",
   "metadata": {},
   "outputs": [
    {
     "name": "stdout",
     "output_type": "stream",
     "text": [
      "['Computer Science', 'Machine Learning', 'Web Development', 'Mathematics', 'Statistics']\n",
      "['Computer Science', 'Data Science', 'Machine Learning', 'Mathematics', 'Statistics']\n"
     ]
    }
   ],
   "source": [
    "print(resume_extract['education']['Study'])\n",
    "print(job_extract['education']['Study'])"
   ]
  },
  {
   "cell_type": "code",
   "execution_count": 37,
   "id": "01c9b25c-a982-467e-9199-e98faffd9ec5",
   "metadata": {},
   "outputs": [
    {
     "data": {
      "text/plain": [
       "(54.54545454545454, 80.0, 50.0)"
      ]
     },
     "execution_count": 37,
     "metadata": {},
     "output_type": "execute_result"
    }
   ],
   "source": [
    "score_skill,score_education,score_experience)"
   ]
  },
  {
   "cell_type": "code",
   "execution_count": 43,
   "id": "6c460930-54e0-4bc6-bde4-c2743c00b11b",
   "metadata": {},
   "outputs": [
    {
     "data": {
      "text/plain": [
       "61.51515151515151"
      ]
     },
     "execution_count": 43,
     "metadata": {},
     "output_type": "execute_result"
    }
   ],
   "source": [
    "rank = ((score_skill + score_education+score_experience)/300)*100\n",
    "rank"
   ]
  },
  {
   "cell_type": "code",
   "execution_count": null,
   "id": "561e9a3c-3226-416f-8a7b-fa52a8869883",
   "metadata": {},
   "outputs": [],
   "source": []
  },
  {
   "cell_type": "code",
   "execution_count": null,
   "id": "8cda39d8-7a94-4d87-aa08-f229d80c533d",
   "metadata": {},
   "outputs": [],
   "source": []
  },
  {
   "cell_type": "code",
   "execution_count": 54,
   "id": "cf20eb93-bf83-4bf5-b07e-b8d54c2f134f",
   "metadata": {},
   "outputs": [],
   "source": [
    "import warnings\n",
    "warnings.filterwarnings('ignore')\n",
    "\n",
    "# Import library\n",
    "import re #regx library\n",
    "import pandas as pd\n",
    "import numpy as np\n",
    "import matplotlib.pyplot as plt\n",
    "from pypdf import PdfReader # Read pdf\n",
    "import streamlit as st\n",
    "from sklearn.metrics.pairwise import cosine_similarity\n",
    "from sklearn.feature_extraction.text import TfidfVectorizer\n",
    "from sentence_transformers import SentenceTransformer\n",
    "\n",
    "\n",
    "import pickle\n",
    "# load skill\n",
    "with open(\"./list/skills.pkl\", \"rb\") as f:\n",
    "    skills = pickle.load(f)\n",
    "# load education    \n",
    "with open(\"./list/education.pkl\", \"rb\") as f:\n",
    "    education = pickle.load(f)\n",
    "# load experience\n",
    "with open(\"./list/experience.pkl\", \"rb\") as f:\n",
    "    experience = pickle.load(f)\n",
    "\n",
    "# Load the trained classifier\n",
    "classfier_predict = pickle.load(open('./list/classfier.pkl', 'rb'))\n",
    "tdiff_vector = pickle.load(open('./list/tdif.pkl', 'rb'))\n",
    "\n",
    "# load model\n",
    "model = SentenceTransformer(\"all-MiniLM-L6-v2\")\n",
    "\n",
    "def text_to_vector(text):\n",
    "    return model.encode(text)\n",
    "\n",
    "\n",
    "\n",
    "\n",
    "classes = ['Advocate', 'Arts', 'Automation Testing', 'Blockchain',\n",
    "       'Business Analyst', 'Civil Engineer', 'Data Science', 'Database',\n",
    "       'DevOps Engineer', 'DotNet Developer', 'ETL Developer',\n",
    "       'Electrical Engineering', 'HR', 'Hadoop', 'Health and fitness',\n",
    "       'Java Developer', 'Mechanical Engineer',\n",
    "       'Network Security Engineer', 'Operations Manager', 'PMO',\n",
    "       'Python Developer', 'SAP Developer', 'Sales', 'Testing',\n",
    "       'Web Designing']\n",
    "\n",
    "\n",
    "# Read pdf \n",
    "def pdf_read(url):\n",
    "    reader = PdfReader(url)\n",
    "    read = reader.pages[0]\n",
    "    text = read.extract_text()\n",
    "    return text\n",
    "\n",
    "\n",
    "# Extract Skill\n",
    "def extract_skills(text):\n",
    "    extracted_skills = [skill for skill in skills if re.search(rf'\\b{skill}\\b', text, re.IGNORECASE)]\n",
    "    return extracted_skills\n",
    "\n",
    "#  Education Extraction Function\n",
    "def extract_education(text):\n",
    "    degrees = education[\"degrees\"]\n",
    "    fields_of_study = education[\"fields_of_study\"]\n",
    "    institutions = education[\"institutions\"]\n",
    "    \n",
    "    extracted_degrees = [deg for deg in degrees if re.search(rf'\\b{deg}\\b', text, re.IGNORECASE)]\n",
    "    extracted_fields = [field for field in fields_of_study if re.search(rf'\\b{field}\\b', text, re.IGNORECASE)]\n",
    "    extracted_institutions = [inst for inst in institutions if re.search(rf'\\b{inst}\\b', text, re.IGNORECASE)]\n",
    "    \n",
    "    return {\n",
    "        \"Degrees\": extracted_degrees,\n",
    "        \"Study\": extracted_fields,\n",
    "        \"Institutions\": extracted_institutions\n",
    "    }\n",
    "\n",
    "# Extract experience\n",
    "def extract_experience(text):\n",
    "    extracted_experience = [exp for exp in experience if re.search(rf'\\b{exp}\\b', text, re.IGNORECASE)]\n",
    "    return extracted_experience\n",
    "\n",
    "\n",
    "def extract_Resume(resume):\n",
    "    skill = extract_skills(resume)\n",
    "    education = extract_education(resume)\n",
    "    experience = extract_experience(resume)\n",
    "    \n",
    "    result = {\n",
    "        'skill': skill,\n",
    "        'education': education,\n",
    "        'experience': experience\n",
    "    }\n",
    "\n",
    "    # Convert the result to JSON format\n",
    "    return result\n",
    "\n",
    "\n",
    "def cleanResume(txt):\n",
    "    cleanText = re.sub('http\\S+\\s', ' ', txt)\n",
    "    cleanText = re.sub('RT|cc', ' ', cleanText)\n",
    "    cleanText = re.sub('#\\S+\\s', ' ', cleanText)\n",
    "    cleanText = re.sub('@\\S+', '  ', cleanText)  \n",
    "    cleanText = re.sub('[%s]' % re.escape(\"\"\"!\"#$%&'()*+,-./:;<=>?@[\\]^_`{|}~\"\"\"), ' ', cleanText)\n",
    "    cleanText = re.sub(r'[^\\x00-\\x7f]', ' ', cleanText) \n",
    "    cleanText = re.sub('\\s+', ' ', cleanText)\n",
    "    return cleanText\n",
    "\n",
    "\n",
    "def get_ResumeSimilarity(resume,job):\n",
    "    resume_vector = text_to_vector(resume)\n",
    "    job_vector = text_to_vector(job)\n",
    "    cosine_sim = cosine_similarity([resume_vector], [job_vector])[0][0]\n",
    "    return cosine_sim * 100\n",
    "\n",
    "def Predict_Resume(resume):\n",
    "    # Transform the cleaned resume using the trained TfidfVectorizer\n",
    "    input_features = tdiff_vector.transform([resume])\n",
    "    # Make the prediction using the loaded classifier\n",
    "    prediction_id = classfier_predict.predict(input_features)[0]\n",
    "    return classes[prediction_id]\n",
    "\n",
    "def matching_score(resume_, job_):\n",
    "    # Convert skills to sets\n",
    "    resume_set = set(resume_)\n",
    "    job_set = set(job_)\n",
    "    \n",
    "    # Calculate intersection and union\n",
    "    intersection = resume_set.intersection(job_set)\n",
    "    match_score = (len(intersection) / len(job_set)) * 100  # Match based on job skills only\n",
    "    \n",
    "    return match_score, intersection\n",
    "\n",
    "\n",
    "\n",
    "def predict(resume, job):\n",
    "    clean_resume = cleanResume(resume)\n",
    "    clean_job = cleanResume(job)\n",
    "\n",
    "    # Predict Resume \n",
    "    resule_predict = Predict_Resume(clean_resume)\n",
    "    # Extract Resume\n",
    "    resume_extract = extract_Resume(clean_resume)\n",
    "    job_extract = extract_Resume(clean_job)\n",
    "    # Matching Resume Skill and Job's\n",
    "    score_skill, matched_skills = matching_score(resume_extract['skill'], job_extract['skill'])\n",
    "    score_education, matched_education = matching_score(resume_extract['education']['Study'],job_extract['education']['Study'])\n",
    "    score_experience, matched_experience = matching_score(resume_extract['experience'], job_extract['experience'])\n",
    "    \n",
    "    # Find Similarity Using cosine\n",
    "    similiraty_skill = get_ResumeSimilarity(str(resume), str(job))\n",
    "    rank = ((score_skill + score_education)/200)*100\n",
    "    \n",
    "    # Fix the JSON serialization issue by converting sets to lists\n",
    "    result = {\n",
    "        \"clean_resume\": clean_resume,\n",
    "        \"clean_job\": job,\n",
    "        \"resume_related_to\": resule_predict,\n",
    "        \"resume_skills\": resume_extract,\n",
    "        \"job_skills\": job_extract,\n",
    "        \"job_skill_match_score\": f\"{score_skill:.2f}%\",\n",
    "        \"matched_skills\": list(matched_skills),  # Convert set to list\n",
    "        \"job_education_match_score\": f\"{score_education:.2f}%\",\n",
    "        \"matched_education\": list(matched_education),  # Convert set to list\n",
    "        \"job_experience_match_score\": f\"{score_experience:.2f}%\",\n",
    "        \"matched_experience\": list(matched_experience),  # Convert set to list\n",
    "        \"job_resume_match_score\": f\"{similiraty_skill:.2f}%\",\n",
    "        \"resume_rank\": f\"{rank:.2f}%\"\n",
    "    }\n",
    "\n",
    "    return result\n",
    "\n",
    "\n",
    "\n",
    "\n",
    "def resume_result(resume_text,job):\n",
    "    return predict(resume_text,str(job))\n",
    "result_my = resume_result(res,str(job))"
   ]
  },
  {
   "cell_type": "code",
   "execution_count": 60,
   "id": "ef1a6d4b-6108-41dd-8d06-fe6dc4b23182",
   "metadata": {},
   "outputs": [
    {
     "data": {
      "text/plain": [
       "['AWS',\n",
       " 'SQL',\n",
       " 'Hadoop',\n",
       " 'PyTorch',\n",
       " 'Big Data',\n",
       " 'Statistical Analysis',\n",
       " 'Azure',\n",
       " 'Machine Learning',\n",
       " 'TensorFlow',\n",
       " 'Data Science',\n",
       " 'Python']"
      ]
     },
     "execution_count": 60,
     "metadata": {},
     "output_type": "execute_result"
    }
   ],
   "source": [
    "result_my['job_skills']['skill']"
   ]
  },
  {
   "cell_type": "code",
   "execution_count": null,
   "id": "3f597b1d-4cf6-40f0-8542-f2b2225c0071",
   "metadata": {},
   "outputs": [],
   "source": []
  }
 ],
 "metadata": {
  "kernelspec": {
   "display_name": "Python 3 (ipykernel)",
   "language": "python",
   "name": "python3"
  },
  "language_info": {
   "codemirror_mode": {
    "name": "ipython",
    "version": 3
   },
   "file_extension": ".py",
   "mimetype": "text/x-python",
   "name": "python",
   "nbconvert_exporter": "python",
   "pygments_lexer": "ipython3",
   "version": "3.12.3"
  }
 },
 "nbformat": 4,
 "nbformat_minor": 5
}
