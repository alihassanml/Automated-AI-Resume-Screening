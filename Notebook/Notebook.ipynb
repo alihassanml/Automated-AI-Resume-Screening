{
 "cells": [
  {
   "cell_type": "code",
   "execution_count": 21,
   "id": "94bb8963-c79c-4622-ba5b-a25ac15c4f94",
   "metadata": {},
   "outputs": [],
   "source": [
    "import warnings\n",
    "warnings.filterwarnings('ignore')"
   ]
  },
  {
   "cell_type": "code",
   "execution_count": 22,
   "id": "0a9282ab-32b6-487c-bb73-8a2990195064",
   "metadata": {},
   "outputs": [],
   "source": [
    "# Import library\n",
    "import re #regx library\n",
    "import pandas as pd\n",
    "import numpy as np\n",
    "import matplotlib.pyplot as plt\n",
    "from pypdf import PdfReader # Read pdf\n",
    "\n",
    "\n",
    "%matplotlib inline"
   ]
  },
  {
   "cell_type": "code",
   "execution_count": 23,
   "id": "262ae52a-8c62-46d3-b204-d1b95492523d",
   "metadata": {},
   "outputs": [],
   "source": [
    "def pdf_read(url):\n",
    "    reader = PdfReader(url)\n",
    "    read = reader.pages[0]\n",
    "    text = read.extract_text()\n",
    "    return text\n",
    "\n",
    "url = './resume.pdf'\n",
    "resume = pdf_read(url)"
   ]
  },
  {
   "cell_type": "code",
   "execution_count": 24,
   "id": "a5a64e1d-d85f-48f5-bc82-851ea4334c1e",
   "metadata": {},
   "outputs": [],
   "source": [
    "import pickle\n",
    "# load skill\n",
    "with open(\"./list/skills.pkl\", \"rb\") as f:\n",
    "    skills = pickle.load(f)\n",
    "# load education    \n",
    "with open(\"./list/education.pkl\", \"rb\") as f:\n",
    "    education = pickle.load(f)\n",
    "# load experience\n",
    "with open(\"./list/experience.pkl\", \"rb\") as f:\n",
    "    experience = pickle.load(f)"
   ]
  },
  {
   "cell_type": "code",
   "execution_count": null,
   "id": "855d18c2-f237-4a6e-af42-b2fa472d5e4f",
   "metadata": {},
   "outputs": [],
   "source": []
  },
  {
   "cell_type": "code",
   "execution_count": null,
   "id": "0581bf42-7dad-45b7-99ac-2e85c9018269",
   "metadata": {},
   "outputs": [],
   "source": [
    "# Extract Skill\n",
    "def extract_skills(text):\n",
    "    extracted_skills = [skill for skill in skills if re.search(rf'\\b{skill}\\b', text, re.IGNORECASE)]\n",
    "    return extracted_skills\n",
    "\n",
    "#  Education Extraction Function\n",
    "def extract_education(text):\n",
    "    degrees = education[\"degrees\"]\n",
    "    fields_of_study = education[\"fields_of_study\"]\n",
    "    institutions = education[\"institutions\"]\n",
    "    \n",
    "    extracted_degrees = [deg for deg in degrees if re.search(rf'\\b{deg}\\b', text, re.IGNORECASE)]\n",
    "    extracted_fields = [field for field in fields_of_study if re.search(rf'\\b{field}\\b', text, re.IGNORECASE)]\n",
    "    extracted_institutions = [inst for inst in institutions if re.search(rf'\\b{inst}\\b', text, re.IGNORECASE)]\n",
    "    \n",
    "    return {\n",
    "        \"Degrees\": extracted_degrees,\n",
    "        \"Fields of Study\": extracted_fields,\n",
    "        \"Institutions\": extracted_institutions\n",
    "    }\n",
    "\n",
    "# Extract experience\n",
    "def extract_experience(text):\n",
    "    extracted_experience = [exp for exp in experience if re.search(rf'\\b{exp}\\b', text, re.IGNORECASE)]\n",
    "    return extracted_experience\n"
   ]
  },
  {
   "cell_type": "code",
   "execution_count": 218,
   "id": "d1ce5d1a-dd93-405c-93ae-b7604683e6ed",
   "metadata": {},
   "outputs": [],
   "source": [
    "# Apply on my resume\n",
    "def extract_Resume(resume):\n",
    "    skill = extract_skills(resume)\n",
    "    education = extract_education(resume)\n",
    "    experience = extract_experience(resume)\n",
    "    \n",
    "    result = {\n",
    "        'skill': skill,\n",
    "        'education': education,\n",
    "        'experience': experience\n",
    "    }\n",
    "\n",
    "    # Convert the result to JSON format\n",
    "    return result"
   ]
  },
  {
   "cell_type": "code",
   "execution_count": null,
   "id": "3efbd038-dbd6-4ae5-b7ac-9816789ef9d5",
   "metadata": {},
   "outputs": [],
   "source": [
    "def extract_Resume(resume):\n",
    "    skill = extract_skills(resume)\n",
    "    education = extract_education(resume)\n",
    "    experience = extract_experience(resume)\n",
    "    \n",
    "    # Convert extracted features into a single string\n",
    "    resume_text = f\"Skills: {', '.join(skill)}. Education: {education}. Experience: {experience}.\"\n",
    "    return resume_text"
   ]
  },
  {
   "cell_type": "code",
   "execution_count": 31,
   "id": "e8ec0a62-f739-4689-94ee-b877df7d110e",
   "metadata": {},
   "outputs": [],
   "source": [
    "# extract_Resume(resume)"
   ]
  },
  {
   "cell_type": "code",
   "execution_count": 130,
   "id": "5574fa4f-816a-429b-a0ac-bd267e740aba",
   "metadata": {},
   "outputs": [
    {
     "data": {
      "text/html": [
       "<div>\n",
       "<style scoped>\n",
       "    .dataframe tbody tr th:only-of-type {\n",
       "        vertical-align: middle;\n",
       "    }\n",
       "\n",
       "    .dataframe tbody tr th {\n",
       "        vertical-align: top;\n",
       "    }\n",
       "\n",
       "    .dataframe thead th {\n",
       "        text-align: right;\n",
       "    }\n",
       "</style>\n",
       "<table border=\"1\" class=\"dataframe\">\n",
       "  <thead>\n",
       "    <tr style=\"text-align: right;\">\n",
       "      <th></th>\n",
       "      <th>Unnamed: 0</th>\n",
       "      <th>Job Title</th>\n",
       "      <th>Job Description</th>\n",
       "    </tr>\n",
       "  </thead>\n",
       "  <tbody>\n",
       "    <tr>\n",
       "      <th>0</th>\n",
       "      <td>0</td>\n",
       "      <td>Flutter Developer</td>\n",
       "      <td>We are looking for hire experts flutter develo...</td>\n",
       "    </tr>\n",
       "    <tr>\n",
       "      <th>1</th>\n",
       "      <td>1</td>\n",
       "      <td>Django Developer</td>\n",
       "      <td>PYTHON/DJANGO (Developer/Lead) - Job Code(PDJ ...</td>\n",
       "    </tr>\n",
       "    <tr>\n",
       "      <th>2</th>\n",
       "      <td>2</td>\n",
       "      <td>Machine Learning</td>\n",
       "      <td>Data Scientist (Contractor)\\n\\nBangalore, IN\\n...</td>\n",
       "    </tr>\n",
       "    <tr>\n",
       "      <th>3</th>\n",
       "      <td>3</td>\n",
       "      <td>iOS Developer</td>\n",
       "      <td>JOB DESCRIPTION:\\n\\nStrong framework outside o...</td>\n",
       "    </tr>\n",
       "    <tr>\n",
       "      <th>4</th>\n",
       "      <td>4</td>\n",
       "      <td>Full Stack Developer</td>\n",
       "      <td>job responsibility full stack engineer – react...</td>\n",
       "    </tr>\n",
       "  </tbody>\n",
       "</table>\n",
       "</div>"
      ],
      "text/plain": [
       "   Unnamed: 0             Job Title  \\\n",
       "0           0     Flutter Developer   \n",
       "1           1      Django Developer   \n",
       "2           2      Machine Learning   \n",
       "3           3         iOS Developer   \n",
       "4           4  Full Stack Developer   \n",
       "\n",
       "                                     Job Description  \n",
       "0  We are looking for hire experts flutter develo...  \n",
       "1  PYTHON/DJANGO (Developer/Lead) - Job Code(PDJ ...  \n",
       "2  Data Scientist (Contractor)\\n\\nBangalore, IN\\n...  \n",
       "3  JOB DESCRIPTION:\\n\\nStrong framework outside o...  \n",
       "4  job responsibility full stack engineer – react...  "
      ]
     },
     "execution_count": 130,
     "metadata": {},
     "output_type": "execute_result"
    }
   ],
   "source": [
    "df = pd.read_csv('./datasets/data.csv')\n",
    "df.head()"
   ]
  },
  {
   "cell_type": "code",
   "execution_count": 194,
   "id": "c8761e4b-c1d2-46e4-83a7-6fe4bf682943",
   "metadata": {},
   "outputs": [
    {
     "data": {
      "text/html": [
       "<div>\n",
       "<style scoped>\n",
       "    .dataframe tbody tr th:only-of-type {\n",
       "        vertical-align: middle;\n",
       "    }\n",
       "\n",
       "    .dataframe tbody tr th {\n",
       "        vertical-align: top;\n",
       "    }\n",
       "\n",
       "    .dataframe thead th {\n",
       "        text-align: right;\n",
       "    }\n",
       "</style>\n",
       "<table border=\"1\" class=\"dataframe\">\n",
       "  <thead>\n",
       "    <tr style=\"text-align: right;\">\n",
       "      <th></th>\n",
       "      <th>Unnamed: 0</th>\n",
       "      <th>Job Title</th>\n",
       "      <th>Job Description</th>\n",
       "    </tr>\n",
       "  </thead>\n",
       "  <tbody>\n",
       "    <tr>\n",
       "      <th>2</th>\n",
       "      <td>2</td>\n",
       "      <td>Machine Learning</td>\n",
       "      <td>Data Scientist (Contractor)\\n\\nBangalore, IN\\n...</td>\n",
       "    </tr>\n",
       "    <tr>\n",
       "      <th>11</th>\n",
       "      <td>11</td>\n",
       "      <td>Machine Learning</td>\n",
       "      <td>Remote, Any where\\n2 - 4 years\\n₹8L - ₹12L / y...</td>\n",
       "    </tr>\n",
       "    <tr>\n",
       "      <th>12</th>\n",
       "      <td>12</td>\n",
       "      <td>Machine Learning</td>\n",
       "      <td>Excited by Big Data, Machine Learning and Pred...</td>\n",
       "    </tr>\n",
       "    <tr>\n",
       "      <th>30</th>\n",
       "      <td>31</td>\n",
       "      <td>Machine Learning</td>\n",
       "      <td>Vista Equity Partners is the world's leading p...</td>\n",
       "    </tr>\n",
       "    <tr>\n",
       "      <th>33</th>\n",
       "      <td>34</td>\n",
       "      <td>Machine Learning</td>\n",
       "      <td>Staff Machine Learning Scientist\\n\\nHyderabad/...</td>\n",
       "    </tr>\n",
       "    <tr>\n",
       "      <th>...</th>\n",
       "      <td>...</td>\n",
       "      <td>...</td>\n",
       "      <td>...</td>\n",
       "    </tr>\n",
       "    <tr>\n",
       "      <th>2242</th>\n",
       "      <td>2367</td>\n",
       "      <td>Machine Learning</td>\n",
       "      <td>Your Profile:\\nWill demonstrate cross function...</td>\n",
       "    </tr>\n",
       "    <tr>\n",
       "      <th>2259</th>\n",
       "      <td>2385</td>\n",
       "      <td>Machine Learning</td>\n",
       "      <td>Responsibilities\\nStudy and transform data sci...</td>\n",
       "    </tr>\n",
       "    <tr>\n",
       "      <th>2261</th>\n",
       "      <td>2388</td>\n",
       "      <td>Machine Learning</td>\n",
       "      <td>Job Description\\nAbout our client:\\nOur Client...</td>\n",
       "    </tr>\n",
       "    <tr>\n",
       "      <th>2266</th>\n",
       "      <td>2393</td>\n",
       "      <td>Machine Learning</td>\n",
       "      <td>PipeCandy is a 'one of its kind', 'data scienc...</td>\n",
       "    </tr>\n",
       "    <tr>\n",
       "      <th>2275</th>\n",
       "      <td>2402</td>\n",
       "      <td>Machine Learning</td>\n",
       "      <td>Key Responsibilities: Team leads for small or ...</td>\n",
       "    </tr>\n",
       "  </tbody>\n",
       "</table>\n",
       "<p>152 rows × 3 columns</p>\n",
       "</div>"
      ],
      "text/plain": [
       "      Unnamed: 0         Job Title  \\\n",
       "2              2  Machine Learning   \n",
       "11            11  Machine Learning   \n",
       "12            12  Machine Learning   \n",
       "30            31  Machine Learning   \n",
       "33            34  Machine Learning   \n",
       "...          ...               ...   \n",
       "2242        2367  Machine Learning   \n",
       "2259        2385  Machine Learning   \n",
       "2261        2388  Machine Learning   \n",
       "2266        2393  Machine Learning   \n",
       "2275        2402  Machine Learning   \n",
       "\n",
       "                                        Job Description  \n",
       "2     Data Scientist (Contractor)\\n\\nBangalore, IN\\n...  \n",
       "11    Remote, Any where\\n2 - 4 years\\n₹8L - ₹12L / y...  \n",
       "12    Excited by Big Data, Machine Learning and Pred...  \n",
       "30    Vista Equity Partners is the world's leading p...  \n",
       "33    Staff Machine Learning Scientist\\n\\nHyderabad/...  \n",
       "...                                                 ...  \n",
       "2242  Your Profile:\\nWill demonstrate cross function...  \n",
       "2259  Responsibilities\\nStudy and transform data sci...  \n",
       "2261  Job Description\\nAbout our client:\\nOur Client...  \n",
       "2266  PipeCandy is a 'one of its kind', 'data scienc...  \n",
       "2275  Key Responsibilities: Team leads for small or ...  \n",
       "\n",
       "[152 rows x 3 columns]"
      ]
     },
     "execution_count": 194,
     "metadata": {},
     "output_type": "execute_result"
    }
   ],
   "source": [
    "df[df['Job Title'] == 'Machine Learning']"
   ]
  },
  {
   "cell_type": "code",
   "execution_count": 134,
   "id": "ac16e7fc-2cef-4257-80a8-ac60899c8baa",
   "metadata": {},
   "outputs": [],
   "source": [
    "import re\n",
    "def cleanResume(txt):\n",
    "    cleanText = re.sub('http\\S+\\s', ' ', txt)\n",
    "    cleanText = re.sub('RT|cc', ' ', cleanText)\n",
    "    cleanText = re.sub('#\\S+\\s', ' ', cleanText)\n",
    "    cleanText = re.sub('@\\S+', '  ', cleanText)  \n",
    "    cleanText = re.sub('[%s]' % re.escape(\"\"\"!\"#$%&'()*+,-./:;<=>?@[\\]^_`{|}~\"\"\"), ' ', cleanText)\n",
    "    cleanText = re.sub(r'[^\\x00-\\x7f]', ' ', cleanText) \n",
    "    cleanText = re.sub('\\s+', ' ', cleanText)\n",
    "    return cleanText"
   ]
  },
  {
   "cell_type": "code",
   "execution_count": 230,
   "id": "de4d20f1-fcf8-463a-a6b5-e73b2d1143e9",
   "metadata": {},
   "outputs": [],
   "source": [
    "value = 2\n",
    "jobDescription = extract_Resume(df['Job Description'][value])\n",
    "myResume = extract_Resume(resume)"
   ]
  },
  {
   "cell_type": "code",
   "execution_count": 231,
   "id": "02c1602c-5fd8-46a7-b0ae-0f352306f3b2",
   "metadata": {},
   "outputs": [
    {
     "name": "stdout",
     "output_type": "stream",
     "text": [
      "['Java', 'PyTorch', 'Big Data', 'Deep Learning', 'Machine Learning', 'TensorFlow', 'Keras', 'Python']\n",
      "['MLflow', 'NLP', 'Scikit-learn', 'Django', 'OpenCV', 'SQL', 'C', 'Data Analysis', 'Java', 'LangChain', 'Computer Vision', 'React', 'Flask', 'Deep Learning', 'Machine Learning', 'TensorFlow', 'Keras', 'C++', 'FastAPI', 'Python', 'CSS', 'Generative AI', 'HTML']\n"
     ]
    }
   ],
   "source": [
    "print(jobDescription['skill'])\n",
    "print(myResume['skill'])"
   ]
  },
  {
   "cell_type": "code",
   "execution_count": null,
   "id": "824f7062-5bf9-47fc-81ef-8b6d141416fb",
   "metadata": {},
   "outputs": [],
   "source": []
  },
  {
   "cell_type": "markdown",
   "id": "7342330f-3d8d-45a7-ad36-fb205484b5c5",
   "metadata": {},
   "source": [
    "## **Apply Machine Learning Algo**"
   ]
  },
  {
   "cell_type": "markdown",
   "id": "a66009eb-fcc7-4387-9435-9c22173203e2",
   "metadata": {},
   "source": []
  },
  {
   "cell_type": "code",
   "execution_count": null,
   "id": "80e62d20-c29b-48e4-a7d5-743880763b83",
   "metadata": {},
   "outputs": [],
   "source": [
    "from sklearn.metrics.pairwise import cosine_similarity\n",
    "from sklearn.feature_extraction.text import TfidfVectorizer"
   ]
  },
  {
   "cell_type": "code",
   "execution_count": 208,
   "id": "a305b309-8a8a-4b87-98b7-4618477783b5",
   "metadata": {},
   "outputs": [],
   "source": [
    "vector = TfidfVectorizer()"
   ]
  },
  {
   "cell_type": "code",
   "execution_count": 209,
   "id": "270cb57e-06fd-4102-b43b-1f82dd7af95a",
   "metadata": {},
   "outputs": [],
   "source": [
    "tfidf_vector = vector.fit_transform([myResume,jobDescription])"
   ]
  },
  {
   "cell_type": "code",
   "execution_count": 210,
   "id": "fea29fdc-3394-458a-a228-e16e80f62683",
   "metadata": {},
   "outputs": [],
   "source": [
    "cosine_sim = cosine_similarity(tfidf_vector[0:1], tfidf_vector[1:2])"
   ]
  },
  {
   "cell_type": "code",
   "execution_count": 211,
   "id": "0bca35a7-79bd-46de-923c-296249a69dda",
   "metadata": {},
   "outputs": [
    {
     "name": "stdout",
     "output_type": "stream",
     "text": [
      "Resume-Job Match Score: 38.53%\n"
     ]
    }
   ],
   "source": [
    "print(f\"Resume-Job Match Score: {cosine_sim[0][0] * 100:.2f}%\")"
   ]
  },
  {
   "cell_type": "code",
   "execution_count": null,
   "id": "ca7051a8-1f10-4714-a0ef-7f70fa24d4c5",
   "metadata": {},
   "outputs": [],
   "source": []
  },
  {
   "cell_type": "code",
   "execution_count": null,
   "id": "b804b943-3e6b-4370-891d-83b69eea676e",
   "metadata": {},
   "outputs": [],
   "source": []
  },
  {
   "cell_type": "code",
   "execution_count": 223,
   "id": "f424a696-80fa-4201-b080-2a3456f6af49",
   "metadata": {},
   "outputs": [],
   "source": [
    "def skill_match_score(resume_skills, job_skills):\n",
    "    # Convert skills to sets\n",
    "    resume_set = set(resume_skills)\n",
    "    job_set = set(job_skills)\n",
    "    \n",
    "    # Calculate intersection and union\n",
    "    intersection = resume_set.intersection(job_set)\n",
    "    match_score = (len(intersection) / len(job_set)) * 100  # Match based on job skills only\n",
    "    \n",
    "    return match_score, intersection"
   ]
  },
  {
   "cell_type": "code",
   "execution_count": 232,
   "id": "0d52f4de-c023-4eb4-90cb-e284f1987dfc",
   "metadata": {},
   "outputs": [
    {
     "name": "stdout",
     "output_type": "stream",
     "text": [
      "Job Skill Match Score: 75.00%\n",
      "Matched Skills: Java, Keras, Deep Learning, Python, Machine Learning, TensorFlow\n"
     ]
    }
   ],
   "source": [
    "score, matched_skills = skill_match_score(myResume['skill'], jobDescription['skill'])\n",
    "\n",
    "# Output result\n",
    "print(f\"Job Skill Match Score: {score:.2f}%\")\n",
    "print(f\"Matched Skills: {', '.join(matched_skills)}\")"
   ]
  },
  {
   "cell_type": "code",
   "execution_count": null,
   "id": "b3051e15-42a5-45af-bf6a-0c9bb5933dfd",
   "metadata": {},
   "outputs": [],
   "source": []
  }
 ],
 "metadata": {
  "kernelspec": {
   "display_name": "Python 3 (ipykernel)",
   "language": "python",
   "name": "python3"
  },
  "language_info": {
   "codemirror_mode": {
    "name": "ipython",
    "version": 3
   },
   "file_extension": ".py",
   "mimetype": "text/x-python",
   "name": "python",
   "nbconvert_exporter": "python",
   "pygments_lexer": "ipython3",
   "version": "3.12.3"
  }
 },
 "nbformat": 4,
 "nbformat_minor": 5
}
